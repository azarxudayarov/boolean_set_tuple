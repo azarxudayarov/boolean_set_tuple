{
 "cells": [
  {
   "cell_type": "code",
   "execution_count": null,
   "id": "372e7c02-de71-4d86-9fea-7b2abd130dbf",
   "metadata": {},
   "outputs": [],
   "source": [
    "#boolean True False"
   ]
  },
  {
   "cell_type": "code",
   "execution_count": null,
   "id": "1c7adab1-b9b6-439f-9fd3-58867abe06a0",
   "metadata": {},
   "outputs": [],
   "source": [
    "a=5\n",
    "b=2"
   ]
  },
  {
   "cell_type": "code",
   "execution_count": null,
   "id": "51dd7cc6-f455-4754-81a9-efbd6a19a71e",
   "metadata": {},
   "outputs": [],
   "source": [
    "if a:\n",
    "    print(\"salam\")"
   ]
  },
  {
   "cell_type": "code",
   "execution_count": null,
   "id": "b8c088a8-10b4-40bf-8c51-f7fe48c44ab0",
   "metadata": {},
   "outputs": [],
   "source": [
    "print(a)"
   ]
  },
  {
   "cell_type": "code",
   "execution_count": null,
   "id": "d86ea344-1959-4403-bdb0-f77ed325bd5b",
   "metadata": {},
   "outputs": [],
   "source": [
    "print(not a)"
   ]
  },
  {
   "cell_type": "code",
   "execution_count": null,
   "id": "e45db3f2-e635-4f09-a536-327a9248b339",
   "metadata": {},
   "outputs": [],
   "source": [
    "print(b)"
   ]
  },
  {
   "cell_type": "code",
   "execution_count": null,
   "id": "4d6512f5-5bb0-49b6-8a48-4ed2305c64cf",
   "metadata": {},
   "outputs": [],
   "source": [
    "print(not b)"
   ]
  },
  {
   "cell_type": "code",
   "execution_count": null,
   "id": "0e45d26a-6bee-4f59-9e28-c0a1bd7ec2b7",
   "metadata": {},
   "outputs": [],
   "source": [
    "print(a>b)"
   ]
  },
  {
   "cell_type": "code",
   "execution_count": null,
   "id": "980f6af1-cd31-4c22-9b61-87effa3415e0",
   "metadata": {},
   "outputs": [],
   "source": [
    "print(a<b)"
   ]
  },
  {
   "cell_type": "code",
   "execution_count": null,
   "id": "efd0803c-0f50-48d8-9670-61a9e62ca193",
   "metadata": {},
   "outputs": [],
   "source": [
    "print(a==b)"
   ]
  },
  {
   "cell_type": "code",
   "execution_count": null,
   "id": "0693a7ab-4d35-4de7-96a5-1d16ec8bc4fd",
   "metadata": {},
   "outputs": [],
   "source": [
    "#set "
   ]
  },
  {
   "cell_type": "code",
   "execution_count": null,
   "id": "4f1c2b4a-461c-493f-b42e-5cfc7e5808ce",
   "metadata": {},
   "outputs": [],
   "source": [
    "k=[1,2,1,3,4,2,1,3,2,1,3,4,2,4]"
   ]
  },
  {
   "cell_type": "code",
   "execution_count": null,
   "id": "86bc52f5-d71d-4779-8245-cf597dba9c24",
   "metadata": {},
   "outputs": [],
   "source": [
    "set(k)"
   ]
  },
  {
   "cell_type": "code",
   "execution_count": null,
   "id": "6f4784ae-0abc-45bd-8ee0-0f34a4918df3",
   "metadata": {},
   "outputs": [],
   "source": [
    "l=set()"
   ]
  },
  {
   "cell_type": "code",
   "execution_count": null,
   "id": "63e4f044-1d34-4eaf-9f62-7cb82b304237",
   "metadata": {},
   "outputs": [],
   "source": [
    "l.add(10)\n",
    "l.add(20)\n",
    "l.add(40)\n",
    "l.add(30)\n",
    "l.add(60)\n",
    "l.add(50)\n",
    "l.add(60)\n",
    "l.add(70)\n",
    "l.add(50)\n",
    "l.add(40)\n",
    "l.add(70)\n",
    "l.add(60)"
   ]
  },
  {
   "cell_type": "code",
   "execution_count": null,
   "id": "84ff41db-74fd-4bc6-a6e3-c2c34658a4a1",
   "metadata": {},
   "outputs": [],
   "source": [
    "l"
   ]
  },
  {
   "cell_type": "code",
   "execution_count": null,
   "id": "9b53d405-3f33-4646-ac63-4c2b8f4c0b9f",
   "metadata": {},
   "outputs": [],
   "source": [
    "# tuple"
   ]
  },
  {
   "cell_type": "code",
   "execution_count": null,
   "id": "f3aef78a-1e82-40bc-993f-f12d58edda83",
   "metadata": {},
   "outputs": [],
   "source": [
    "t=tuple()"
   ]
  },
  {
   "cell_type": "code",
   "execution_count": null,
   "id": "e9e6fbb0-75e3-4a9b-85b2-1d7d24d2ddfa",
   "metadata": {},
   "outputs": [],
   "source": [
    "t =  t + (\"10\",\"20\", \"10\", \"40\", \"30\", \"20\", \"30\")"
   ]
  },
  {
   "cell_type": "code",
   "execution_count": null,
   "id": "ae9e6ecf-b81b-4dff-bed5-dc34806178d9",
   "metadata": {},
   "outputs": [],
   "source": [
    "t"
   ]
  },
  {
   "cell_type": "code",
   "execution_count": null,
   "id": "14cd9484-fe9a-4941-8176-0626a3ace85e",
   "metadata": {},
   "outputs": [],
   "source": [
    "t.count(\"10\")"
   ]
  },
  {
   "cell_type": "code",
   "execution_count": null,
   "id": "36b5f4ee-f966-4b7a-8471-637bf4e0f05d",
   "metadata": {},
   "outputs": [],
   "source": [
    "t.count(\"30\")"
   ]
  },
  {
   "cell_type": "code",
   "execution_count": null,
   "id": "3a94ef59-3922-4b02-86c4-9e3ee5ce2ada",
   "metadata": {},
   "outputs": [],
   "source": [
    "t.index(\"10\")"
   ]
  },
  {
   "cell_type": "code",
   "execution_count": null,
   "id": "05df596d-9b81-4b9c-93cd-2088941bf250",
   "metadata": {},
   "outputs": [],
   "source": [
    "t.index(\"40\")"
   ]
  },
  {
   "cell_type": "code",
   "execution_count": null,
   "id": "bf9ed10d-8690-47e4-afaf-7ec685e60e08",
   "metadata": {},
   "outputs": [],
   "source": []
  }
 ],
 "metadata": {
  "kernelspec": {
   "display_name": "Python 3 (ipykernel)",
   "language": "python",
   "name": "python3"
  },
  "language_info": {
   "codemirror_mode": {
    "name": "ipython",
    "version": 3
   },
   "file_extension": ".py",
   "mimetype": "text/x-python",
   "name": "python",
   "nbconvert_exporter": "python",
   "pygments_lexer": "ipython3",
   "version": "3.12.7"
  }
 },
 "nbformat": 4,
 "nbformat_minor": 5
}
